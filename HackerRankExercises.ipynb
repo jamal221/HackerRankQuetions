{
  "nbformat": 4,
  "nbformat_minor": 0,
  "metadata": {
    "colab": {
      "provenance": [],
      "authorship_tag": "ABX9TyM4d7pwQZ9lCXsOdGl3R5sE",
      "include_colab_link": true
    },
    "kernelspec": {
      "name": "python3",
      "display_name": "Python 3"
    },
    "language_info": {
      "name": "python"
    }
  },
  "cells": [
    {
      "cell_type": "markdown",
      "metadata": {
        "id": "view-in-github",
        "colab_type": "text"
      },
      "source": [
        "<a href=\"https://colab.research.google.com/github/jamal221/HackerRankQuetions/blob/main/HackerRankExercises.ipynb\" target=\"_parent\"><img src=\"https://colab.research.google.com/assets/colab-badge.svg\" alt=\"Open In Colab\"/></a>"
      ]
    },
    {
      "cell_type": "code",
      "execution_count": null,
      "metadata": {
        "id": "JNQMHZ4Xklhr"
      },
      "outputs": [],
      "source": []
    },
    {
      "cell_type": "markdown",
      "source": [
        "There will be two arrays of integers. Determine all integers that satisfy the following two conditions:\n",
        "\n",
        "The elements of the first array are all factors of the integer being considered\n",
        "The integer being considered is a factor of all elements of the second array\n",
        "These numbers are referred to as being between the two arrays. Determine how many such numbers exist.\n",
        "\n",
        "Example\n",
        "\n",
        "\n",
        "There are two numbers between the arrays:  and .\n",
        ", ,  and  for the first value.\n",
        ",  and ,  for the second value. Return .\n",
        "\n",
        "Function Description\n",
        "\n",
        "Complete the getTotalX function in the editor below. It should return the number of integers that are betwen the sets.\n",
        "\n",
        "getTotalX has the following parameter(s):\n",
        "\n",
        "int a[n]: an array of integers\n",
        "int b[m]: an array of integers\n",
        "Returns\n",
        "\n",
        "int: the number of integers that are between the sets\n",
        "Input Format\n",
        "\n",
        "The first line contains two space-separated integers,  and , the number of elements in arrays  and .\n",
        "The second line contains  distinct space-separated integers  where .\n",
        "The third line contains  distinct space-separated integers  where .\n",
        "\n",
        "Constraints\n",
        "\n",
        "Sample Input\n",
        "\n",
        "2 3\n",
        "2 4\n",
        "16 32 96\n",
        "Sample Output\n",
        "\n",
        "3\n",
        "Explanation\n",
        "\n",
        "2 and 4 divide evenly into 4, 8, 12 and 16.\n",
        "4, 8 and 16 divide evenly into 16, 32, 96.\n",
        "\n",
        "4, 8 and 16 are the only three numbers for which each element of a is a factor and each is a factor of all elements of b.\n",
        "\n"
      ],
      "metadata": {
        "id": "J-2O7aMekslA"
      }
    },
    {
      "cell_type": "code",
      "source": [
        "#Solution\n"
      ],
      "metadata": {
        "id": "jutsYJeNkqHw"
      },
      "execution_count": null,
      "outputs": []
    }
  ]
}